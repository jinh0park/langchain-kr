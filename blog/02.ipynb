{
 "cells": [
  {
   "cell_type": "code",
   "execution_count": 32,
   "metadata": {},
   "outputs": [
    {
     "data": {
      "text/plain": [
       "[SystemMessage(content='당신은 친절한 AI 어시스턴트입니다.'),\n",
       " HumanMessage(content='반가워요! 제 이름은 박진호 입니다.'),\n",
       " AIMessage(content='안녕하세요! 무엇을 도와드릴까요?'),\n",
       " HumanMessage(content='내 이름으로 삼행시를 지어주세요.')]"
      ]
     },
     "execution_count": 32,
     "metadata": {},
     "output_type": "execute_result"
    }
   ],
   "source": [
    "from langchain_core.prompts import ChatPromptTemplate\n",
    "\n",
    "prompt = ChatPromptTemplate.from_messages(\n",
    "    [\n",
    "        # role, message\n",
    "        (\"system\", \"당신은 친절한 AI 어시스턴트입니다.\"),\n",
    "        (\"human\", \"반가워요! 제 이름은 {name} 입니다.\"),\n",
    "        (\"ai\", \"안녕하세요! 무엇을 도와드릴까요?\"),\n",
    "        (\"human\", \"{input}\"),\n",
    "    ]\n",
    ")\n",
    "\n",
    "prompt.invoke({\"name\":\"박진호\", \"input\":\"내 이름으로 삼행시를 지어주세요.\"}).messages"
   ]
  },
  {
   "cell_type": "code",
   "execution_count": 33,
   "metadata": {},
   "outputs": [
    {
     "data": {
      "text/markdown": [
       "물론이죠, 박진호님의 이름으로 삼행시를 지어볼게요.\n",
       "\n",
       "**박**: 박진호님의 하루는  \n",
       "**진**: 진심이 가득한 멋진 날들이며  \n",
       "**호**: 호기심으로 가득 찬 행복한 시간이 되길 바랍니다."
      ],
      "text/plain": [
       "<IPython.core.display.Markdown object>"
      ]
     },
     "metadata": {},
     "output_type": "display_data"
    }
   ],
   "source": [
    "from langchain_openai import ChatOpenAI\n",
    "from langchain_core.output_parsers import StrOutputParser\n",
    "from IPython.display import display, Markdown\n",
    "\n",
    "llm = ChatOpenAI(model='gpt-4o')\n",
    "chain = prompt | llm | StrOutputParser()\n",
    "\n",
    "display(Markdown(chain.invoke({\"name\":\"박진호\", \"input\":\"내 이름으로 삼행시를 지어주세요.\"})))"
   ]
  },
  {
   "cell_type": "code",
   "execution_count": 34,
   "metadata": {},
   "outputs": [
    {
     "data": {
      "text/plain": [
       "[SystemMessage(content='당신은 친절한 AI 어시스턴트입니다.'),\n",
       " HumanMessage(content='반가워요! 제 이름은 박진호 입니다.'),\n",
       " AIMessage(content='안녕하세요! 무엇을 도와드릴까요?'),\n",
       " HumanMessage(content='오늘의 날씨를 알려줘.'),\n",
       " AIMessage(content=\"오늘의 날씨는 '흐림'입니다.\"),\n",
       " HumanMessage(content='내 이름으로 날씨에 어울리는 삼행시를 해줘')]"
      ]
     },
     "execution_count": 34,
     "metadata": {},
     "output_type": "execute_result"
    }
   ],
   "source": [
    "from langchain_core.prompts import MessagesPlaceholder\n",
    "\n",
    "prompt = ChatPromptTemplate.from_messages(\n",
    "    [\n",
    "        # role, message\n",
    "        (\"system\", \"당신은 친절한 AI 어시스턴트입니다.\"),\n",
    "        (\"human\", \"반가워요! 제 이름은 {name} 입니다.\"),\n",
    "        (\"ai\", \"안녕하세요! 무엇을 도와드릴까요?\"),\n",
    "        MessagesPlaceholder(variable_name=\"history\"),\n",
    "        (\"human\", \"{input}\"),\n",
    "    ]\n",
    ")\n",
    "\n",
    "prompt.invoke({\n",
    "  \"name\":\"박진호\", \n",
    "  \"input\":\"내 이름으로 날씨에 어울리는 삼행시를 해줘\",\n",
    "  \"history\":[\n",
    "    (\"human\", \"오늘의 날씨를 알려줘.\"),\n",
    "    (\"ai\",\"오늘의 날씨는 '흐림'입니다.\")\n",
    "    ]\n",
    "  }).messages"
   ]
  },
  {
   "cell_type": "code",
   "execution_count": 36,
   "metadata": {},
   "outputs": [
    {
     "data": {
      "text/markdown": [
       "물론이죠, 박진호님의 이름으로 삼행시를 지어드릴게요!\n",
       "\n",
       "박: 박진호님, 오늘 하늘이\n",
       "진: 진짜 흐리네요.\n",
       "호: 호우가 내릴 수도 있으니 우산 꼭 챙기세요.\n",
       "\n",
       "마음에 드셨으면 좋겠네요!"
      ],
      "text/plain": [
       "<IPython.core.display.Markdown object>"
      ]
     },
     "metadata": {},
     "output_type": "display_data"
    }
   ],
   "source": [
    "llm = ChatOpenAI(model='gpt-4o')\n",
    "chain = prompt | llm | StrOutputParser()\n",
    "display(Markdown(chain.invoke({\n",
    "  \"name\":\"박진호\", \n",
    "  \"input\":\"내 이름으로 날씨에 어울리는 삼행시를 해줘\",\n",
    "  \"history\":[\n",
    "    (\"human\", \"오늘의 날씨를 알려줘.\"),\n",
    "    (\"ai\",\"오늘의 날씨는 '흐림'입니다.\")\n",
    "    ]\n",
    "  })))"
   ]
  },
  {
   "cell_type": "code",
   "execution_count": 39,
   "metadata": {},
   "outputs": [],
   "source": [
    "from langchain_openai import ChatOpenAI\n",
    "from langchain_core.prompts import ChatPromptTemplate, MessagesPlaceholder\n",
    "from langchain_core.runnables.history import RunnableWithMessageHistory\n",
    "from langchain.memory import ConversationBufferMemory\n",
    "\n",
    "prompt = ChatPromptTemplate.from_messages([\n",
    "    (\"system\", \"You're an assistant who's good at {ability}\"),\n",
    "    MessagesPlaceholder(variable_name=\"history\"),\n",
    "    (\"human\", \"{input}\"),\n",
    "])\n",
    "\n",
    "llm = ChatOpenAI(model='gpt-4o')\n",
    "\n",
    "chain = prompt | llm"
   ]
  },
  {
   "cell_type": "code",
   "execution_count": 48,
   "metadata": {},
   "outputs": [],
   "source": [
    "from langchain_community.chat_message_histories import ChatMessageHistory\n",
    "from langchain_core.chat_history import BaseChatMessageHistory\n",
    "from langchain_core.runnables.history import RunnableWithMessageHistory\n",
    "\n",
    "store = {}\n",
    "\n",
    "def get_session_history(session_ids: str) -> BaseChatMessageHistory:\n",
    "    if session_ids not in store: store[session_ids] = ChatMessageHistory()\n",
    "    return store[session_ids]\n",
    "\n",
    "with_message_history = (\n",
    "    RunnableWithMessageHistory(  # RunnableWithMessageHistory 객체 생성\n",
    "        chain,  # 실행할 Runnable 객체\n",
    "        get_session_history,  # 세션 기록을 가져오는 함수\n",
    "        input_messages_key=\"input\",  # 입력 메시지의 키\n",
    "        history_messages_key=\"history\",  # 기록 메시지의 키\n",
    "    )\n",
    ")"
   ]
  },
  {
   "cell_type": "code",
   "execution_count": 49,
   "metadata": {},
   "outputs": [
    {
     "data": {
      "text/markdown": [
       "Certainly! The Navier-Stokes equations are a set of partial differential equations that describe the motion of fluid substances such as liquids and gases. They are fundamental to the field of fluid dynamics and are used to model weather patterns, ocean currents, water flow in pipes, air flow around wings, and many other phenomena involving fluid flow.\n",
       "\n",
       "The equations are based on Newton's second law of motion and account for various forces acting on a fluid element, including:\n",
       "\n",
       "1. **Viscous forces**: These are internal frictional forces within the fluid due to its viscosity.\n",
       "2. **Pressure forces**: These arise from pressure differences within the fluid.\n",
       "3. **External forces**: These can include gravity, electromagnetic forces, etc.\n",
       "\n",
       "The general form of the Navier-Stokes equations for an incompressible fluid is:\n",
       "\n",
       "\\[ \\frac{\\partial \\mathbf{u}}{\\partial t} + (\\mathbf{u} \\cdot \\nabla) \\mathbf{u} = -\\nabla p + \\nu \\nabla^2 \\mathbf{u} + \\mathbf{f} \\]\n",
       "\n",
       "where:\n",
       "- \\(\\mathbf{u}\\) is the velocity field of the fluid.\n",
       "- \\(t\\) is time.\n",
       "- \\(p\\) is the pressure field.\n",
       "- \\(\\nu\\) is the kinematic viscosity of the fluid.\n",
       "- \\(\\mathbf{f}\\) represents external forces (e.g., gravity).\n",
       "\n",
       "These equations are accompanied by the continuity equation for incompressible flow:\n",
       "\n",
       "\\[ \\nabla \\cdot \\mathbf{u} = 0 \\]\n",
       "\n",
       "Solving the Navier-Stokes equations can be quite challenging, especially for turbulent flows. Despite their complexity, these equations are essential for understanding and predicting fluid behavior in many practical applications."
      ],
      "text/plain": [
       "<IPython.core.display.Markdown object>"
      ]
     },
     "metadata": {},
     "output_type": "display_data"
    }
   ],
   "source": [
    "output = with_message_history.invoke({\n",
    "    \"ability\": \"math\",\n",
    "    \"input\": \"tell me about Navier-Stokes equations shortly\"\n",
    "},\n",
    "config={\"configurable\": {\"session_id\": \"aa33dd\"}})\n",
    "display(Markdown(output.content))"
   ]
  },
  {
   "cell_type": "code",
   "execution_count": 50,
   "metadata": {},
   "outputs": [
    {
     "data": {
      "text/markdown": [
       "물론입니다! 나비에-스토크스 방정식(Navier-Stokes equations)은 액체나 기체와 같은 유체 물질의 운동을 설명하는 편미분 방정식들의 집합입니다. 이 방정식들은 유체 역학의 기본이 되며, 날씨 패턴, 해류, 파이프 속의 물 흐름, 날개 주변의 공기 흐름 등 유체 흐름과 관련된 많은 현상을 모델링하는 데 사용됩니다.\n",
       "\n",
       "이 방정식들은 뉴턴의 제2 운동 법칙을 기반으로 하며, 유체 요소에 작용하는 여러 힘들을 설명합니다. 이러한 힘들은 다음과 같습니다:\n",
       "\n",
       "1. **점성력**: 점성 때문에 유체 내부의 마찰력입니다.\n",
       "2. **압력력**: 유체 내부의 압력 차이로 인해 발생하는 힘입니다.\n",
       "3. **외부 힘**: 중력, 전자기력 등 외부에서 작용하는 힘입니다.\n",
       "\n",
       "비압축성 유체에 대한 나비에-스토크스 방정식의 일반적인 형태는 다음과 같습니다:\n",
       "\n",
       "\\[ \\frac{\\partial \\mathbf{u}}{\\partial t} + (\\mathbf{u} \\cdot \\nabla) \\mathbf{u} = -\\nabla p + \\nu \\nabla^2 \\mathbf{u} + \\mathbf{f} \\]\n",
       "\n",
       "여기서:\n",
       "- \\(\\mathbf{u}\\)는 유체의 속도장입니다.\n",
       "- \\(t\\)는 시간입니다.\n",
       "- \\(p\\)는 압력장입니다.\n",
       "- \\(\\nu\\)는 유체의 운동 점도입니다.\n",
       "- \\(\\mathbf{f}\\)는 외부 힘을 나타냅니다 (예: 중력).\n",
       "\n",
       "이 방정식들은 비압축성 흐름을 위한 연속 방정식과 함께 사용됩니다:\n",
       "\n",
       "\\[ \\nabla \\cdot \\mathbf{u} = 0 \\]\n",
       "\n",
       "나비에-스토크스 방정식을 푸는 것은 특히 난류 흐름의 경우 매우 어려울 수 있습니다. 그 복잡성에도 불구하고, 이 방정식들은 많은 실용적인 응용에서 유체의 행동을 이해하고 예측하는 데 필수적입니다."
      ],
      "text/plain": [
       "<IPython.core.display.Markdown object>"
      ]
     },
     "metadata": {},
     "output_type": "display_data"
    }
   ],
   "source": [
    "translated_output = with_message_history.invoke({\n",
    "    \"ability\": \"math\",\n",
    "    \"input\": \"translate the previous answer into Korean.\"\n",
    "},\n",
    "config={\"configurable\": {\"session_id\": \"aa33dd\"}})\n",
    "display(Markdown(translated_output.content))"
   ]
  },
  {
   "cell_type": "code",
   "execution_count": 60,
   "metadata": {},
   "outputs": [
    {
     "data": {
      "text/plain": [
       "['tell me about Navier-Stokes equations shortly',\n",
       " 'Certainly! The Navier-Stokes equations are a set o',\n",
       " 'translate the previous answer into Korean.',\n",
       " '물론입니다! 나비에-스토크스 방정식(Navier-Stokes equations)은 액체나 ']"
      ]
     },
     "execution_count": 60,
     "metadata": {},
     "output_type": "execute_result"
    }
   ],
   "source": [
    "list(map(lambda x:x.content[:50], store['aa33dd'].messages))"
   ]
  },
  {
   "cell_type": "code",
   "execution_count": null,
   "metadata": {},
   "outputs": [],
   "source": []
  }
 ],
 "metadata": {
  "kernelspec": {
   "display_name": "Python 3",
   "language": "python",
   "name": "python3"
  },
  "language_info": {
   "codemirror_mode": {
    "name": "ipython",
    "version": 3
   },
   "file_extension": ".py",
   "mimetype": "text/x-python",
   "name": "python",
   "nbconvert_exporter": "python",
   "pygments_lexer": "ipython3",
   "version": "3.11.1"
  },
  "orig_nbformat": 4,
  "vscode": {
   "interpreter": {
    "hash": "aee8b7b246df8f9039afb4144a1f6fd8d2ca17a180786b69acc140d282b71a49"
   }
  }
 },
 "nbformat": 4,
 "nbformat_minor": 2
}
